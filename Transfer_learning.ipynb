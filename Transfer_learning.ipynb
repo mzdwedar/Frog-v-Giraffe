{
  "nbformat": 4,
  "nbformat_minor": 0,
  "metadata": {
    "colab": {
      "name": "Transfer learning.ipynb",
      "provenance": [],
      "authorship_tag": "ABX9TyPPIydAyaUBcTidJpnEsQI7",
      "include_colab_link": true
    },
    "kernelspec": {
      "name": "python3",
      "display_name": "Python 3"
    },
    "language_info": {
      "name": "python"
    }
  },
  "cells": [
    {
      "cell_type": "markdown",
      "metadata": {
        "id": "view-in-github",
        "colab_type": "text"
      },
      "source": [
        "<a href=\"https://colab.research.google.com/github/mziad97/Frog-v-Giraffe/blob/main/Transfer_learning.ipynb\" target=\"_parent\"><img src=\"https://colab.research.google.com/assets/colab-badge.svg\" alt=\"Open In Colab\"/></a>"
      ]
    },
    {
      "cell_type": "code",
      "metadata": {
        "id": "e6cikrUE3bkK"
      },
      "source": [
        "import urllib.request\n",
        "import os\n",
        "import zipfile\n",
        "import random\n",
        "from tensorflow.keras.preprocessing.image import ImageDataGenerator\n",
        "from tensorflow.keras import layers\n",
        "from tensorflow.keras import Model\n",
        "from tensorflow.keras.applications.inception_v3 import InceptionV3\n",
        "from tensorflow.keras.optimizers import RMSprop\n",
        "from shutil import copyfile"
      ],
      "execution_count": 99,
      "outputs": []
    },
    {
      "cell_type": "code",
      "metadata": {
        "id": "VEWs8jA5YxoS",
        "colab": {
          "base_uri": "https://localhost:8080/"
        },
        "outputId": "9cea3d09-5ab4-4415-f323-b79daca6e34a"
      },
      "source": [
        "! pip install -q kaggle\n",
        "\n",
        "! mkdir ~/.kaggle\n",
        "\n",
        "! cp kaggle.json ~/.kaggle/\n",
        "\n",
        "! chmod 600 ~/.kaggle/kaggle.json\n"
      ],
      "execution_count": null,
      "outputs": [
        {
          "output_type": "stream",
          "name": "stdout",
          "text": [
            "mkdir: cannot create directory ‘/root/.kaggle’: File exists\n"
          ]
        }
      ]
    },
    {
      "cell_type": "code",
      "metadata": {
        "colab": {
          "base_uri": "https://localhost:8080/"
        },
        "id": "Wz4YeuHNmobf",
        "outputId": "3c6d1907-da96-46a6-c39f-e007af76ca5b"
      },
      "source": [
        "print(\"the number of frog instances: {}\".format( len(os.listdir('./frog'))))\n",
        "print(\"The numebr of giraffe instances: {}\".format(len(os.listdir('./giraffe'))))"
      ],
      "execution_count": 67,
      "outputs": [
        {
          "output_type": "stream",
          "name": "stdout",
          "text": [
            "the number of frog instances: 116\n",
            "the numebr of giraffe instances: 84\n"
          ]
        }
      ]
    },
    {
      "cell_type": "code",
      "metadata": {
        "id": "rEl35CS1nKgM"
      },
      "source": [
        "  os.mkdir('./frog-v-giraffe')\n",
        "  os.mkdir('./frog-v-giraffe/training')\n",
        "  os.mkdir('./frog-v-giraffe/testing')\n",
        "  os.mkdir('./frog-v-giraffe/training/frog')\n",
        "  os.mkdir('./frog-v-giraffe/training/giraffe')\n",
        "  os.mkdir('./frog-v-giraffe/testing/frog')\n",
        "  os.mkdir('./frog-v-giraffe/testing/giraffe')"
      ],
      "execution_count": 91,
      "outputs": []
    },
    {
      "cell_type": "code",
      "metadata": {
        "id": "rgzjgBm8oqMw"
      },
      "source": [
        "import random\n",
        "from shutil import copyfile\n",
        "\n",
        "def split_data(SOURCE, TRAINING, TESTING, SPLIT_SIZE):\n",
        "  files = []\n",
        "  for filename in os.listdir(SOURCE):\n",
        "    file = SOURCE + filename\n",
        "    if (os.path.getsize(file) > 0):\n",
        "      files.append(filename)\n",
        "    else:\n",
        "      print(f'{filename} is empty')\n",
        "\n",
        "\n",
        "  train_length = int(len(files) * SPLIT_SIZE)\n",
        "  test_length = int(len(files) - train_length)\n",
        "  shuffled_set = random.sample(files, len(files))\n",
        "  train_set = shuffled_set[0:train_length]\n",
        "  test_set = shuffled_set[train_length:]\n",
        "\n",
        "  for filename in train_set:\n",
        "    this_file = SOURCE + filename\n",
        "    destination = TRAINING + filename\n",
        "    copyfile(this_file, destination)\n",
        "\n",
        "  for filename in test_set:\n",
        "    this_file = SOURCE + filename\n",
        "    destination = TESTING + filename\n",
        "    copyfile(this_file, destination)"
      ],
      "execution_count": 92,
      "outputs": []
    },
    {
      "cell_type": "code",
      "metadata": {
        "id": "krqwlswJrjWU"
      },
      "source": [
        "FROG_SOURCE_DIR = \"./frog/\"\n",
        "TRAINING_FROG_DIR = \"./frog-v-giraffe/training/frog/\"\n",
        "TESTING_FROG_DIR = \"./frog-v-giraffe/testing/frog/\"\n",
        "GIRAFFE_SOURCE_DIR = \"./giraffe/\"\n",
        "TRAINING_GIRAFFE_DIR = \"./frog-v-giraffe/training/giraffe/\"\n",
        "TESTING_GIRAFFE_DIR = \"./frog-v-giraffe/testing/giraffe/\"\n",
        "\n",
        "split_size = .80\n",
        "split_data(FROG_SOURCE_DIR, TRAINING_FROG_DIR, TESTING_FROG_DIR, split_size)\n",
        "split_data(GIRAFFE_SOURCE_DIR, TRAINING_GIRAFFE_DIR, TESTING_GIRAFFE_DIR, split_size)"
      ],
      "execution_count": 95,
      "outputs": []
    },
    {
      "cell_type": "code",
      "metadata": {
        "colab": {
          "base_uri": "https://localhost:8080/"
        },
        "id": "cDRqJHAIxMYL",
        "outputId": "453da839-149d-4084-e092-35e668ab628d"
      },
      "source": [
        "print(f'frog training number: { len(os.listdir(\"./frog-v-giraffe/training/frog\")) }')\n",
        "print(f'frog testing numebr: { len(os.listdir(\"./frog-v-giraffe/testing/frog\")) }')\n",
        "print(f'giraffe training number: { len(os.listdir(\"./frog-v-giraffe/training/giraffe\")) }')\n",
        "print(f'giraffe testing number: { len(os.listdir(\"./frog-v-giraffe/testing/giraffe\")) }')"
      ],
      "execution_count": 98,
      "outputs": [
        {
          "output_type": "stream",
          "name": "stdout",
          "text": [
            "frog training number: 102\n",
            "frog testing numebr: 14\n",
            "giraffe training number: 73\n",
            "giraffe testing number: 11\n"
          ]
        }
      ]
    },
    {
      "cell_type": "markdown",
      "metadata": {
        "id": "obZpfYQYznJL"
      },
      "source": [
        "# Data Augmentation"
      ]
    },
    {
      "cell_type": "code",
      "metadata": {
        "colab": {
          "base_uri": "https://localhost:8080/"
        },
        "id": "n-VcVAody53o",
        "outputId": "aebe4a3f-f94f-4f17-af97-e3544bcaff34"
      },
      "source": [
        "from tensorflow.keras.preprocessing.image import ImageDataGenerator\n",
        "\n",
        "TRAINING_DIR = \"./frog-v-giraffe/training\"\n",
        "train_datagen = ImageDataGenerator(rescale=1./255, \n",
        "                                   rotation_range=40,\n",
        "                                   width_shift_range=0.2,\n",
        "                                   height_shift_range=0.2,\n",
        "                                   shear_range=0.2,\n",
        "                                   zoom_range=0.2,\n",
        "                                   horizontal_flip=True,\n",
        "                                   fill_mode='nearest')\n",
        "train_generator = train_datagen.flow_from_directory(TRAINING_DIR, batch_size=20,\n",
        "                                                    class_mode='binary', target_size=(150, 150))\n",
        "\n",
        "VALIDATION_DIR = \"./frog-v-giraffe/testing\"\n",
        "valid_datagen = ImageDataGenerator(rescale=1./255)\n",
        "valid_generator = valid_datagen.flow_from_directory(VALIDATION_DIR, class_mode='binary', target_size=(150, 150))"
      ],
      "execution_count": 111,
      "outputs": [
        {
          "output_type": "stream",
          "name": "stdout",
          "text": [
            "Found 175 images belonging to 2 classes.\n",
            "Found 25 images belonging to 2 classes.\n"
          ]
        }
      ]
    },
    {
      "cell_type": "code",
      "metadata": {
        "id": "amtHuRHR3TYH"
      },
      "source": [
        "weights_url = \"https://storage.googleapis.com/mledu-datasets/inception_v3_weights_tf_dim_ordering_tf_kernels_notop.h5\"\n",
        "weights_file = \"inception_v3.h5\"\n",
        "urllib.request.urlretrieve(weights_url, weights_file)\n",
        "\n",
        "pre_trained_model = InceptionV3(input_shape=(150,150,3), \n",
        "                                include_top=False,\n",
        "                                weights=None)\n",
        "\n",
        "pre_trained_model.load_weights(weights_file)\n",
        "\n",
        "for layer in pre_trained_model.layers:\n",
        "  layer.trainable = False\n"
      ],
      "execution_count": 100,
      "outputs": []
    },
    {
      "cell_type": "code",
      "metadata": {
        "id": "bhV7M21K4NoR"
      },
      "source": [
        "#pre_trained_model.summary()"
      ],
      "execution_count": 123,
      "outputs": []
    },
    {
      "cell_type": "code",
      "metadata": {
        "colab": {
          "base_uri": "https://localhost:8080/"
        },
        "id": "VHzXLNrg4QpR",
        "outputId": "b9b3ba5e-6186-4ad7-bc68-0e0de28d638d"
      },
      "source": [
        "last_layer = pre_trained_model.get_layer('mixed4')\n",
        "print(\"last layer shape: \", last_layer.output_shape)\n",
        "last_output = last_layer.output"
      ],
      "execution_count": 119,
      "outputs": [
        {
          "output_type": "stream",
          "name": "stdout",
          "text": [
            "last layer shape:  (None, 7, 7, 768)\n"
          ]
        }
      ]
    },
    {
      "cell_type": "markdown",
      "metadata": {
        "id": "RHDlZKQi5eB4"
      },
      "source": [
        "## adding layers"
      ]
    },
    {
      "cell_type": "code",
      "metadata": {
        "id": "D7anAhuW4_DA"
      },
      "source": [
        "x = layers.Flatten()(last_output)\n",
        "x = layers.Dense(1080, activation='relu')(x)\n",
        "x = layers.Dense(512, activation='relu')(x)\n",
        "x = layers.Dense(1, activation='sigmoid')(x)\n",
        "\n",
        "model = Model(pre_trained_model.input, x)"
      ],
      "execution_count": 120,
      "outputs": []
    },
    {
      "cell_type": "code",
      "metadata": {
        "colab": {
          "base_uri": "https://localhost:8080/"
        },
        "id": "-Ab7PNpe6aFU",
        "outputId": "a879d869-c019-4bb1-c19c-28fd29da85b0"
      },
      "source": [
        "model.compile(optimizer=RMSprop(learning_rate=0.0001),\n",
        "              loss='binary_crossentropy',\n",
        "              metrics=['acc'])\n",
        "history = model.fit(train_generator, validation_data=valid_generator, epochs= 10, verbose=1)"
      ],
      "execution_count": 121,
      "outputs": [
        {
          "output_type": "stream",
          "name": "stdout",
          "text": [
            "Epoch 1/10\n",
            "9/9 [==============================] - 14s 1s/step - loss: 2.1314 - acc: 0.5771 - val_loss: 0.4423 - val_acc: 0.7600\n",
            "Epoch 2/10\n",
            "9/9 [==============================] - 10s 1s/step - loss: 0.6545 - acc: 0.6743 - val_loss: 0.5174 - val_acc: 0.7200\n",
            "Epoch 3/10\n",
            "9/9 [==============================] - 10s 1s/step - loss: 0.4385 - acc: 0.7714 - val_loss: 0.4391 - val_acc: 0.7200\n",
            "Epoch 4/10\n",
            "9/9 [==============================] - 10s 1s/step - loss: 0.3747 - acc: 0.8343 - val_loss: 0.4162 - val_acc: 0.7600\n",
            "Epoch 5/10\n",
            "9/9 [==============================] - 10s 1s/step - loss: 0.4438 - acc: 0.7886 - val_loss: 0.1439 - val_acc: 0.9600\n",
            "Epoch 6/10\n",
            "9/9 [==============================] - 10s 1s/step - loss: 0.1799 - acc: 0.9029 - val_loss: 0.0774 - val_acc: 0.9600\n",
            "Epoch 7/10\n",
            "9/9 [==============================] - 10s 1s/step - loss: 0.5444 - acc: 0.7771 - val_loss: 0.0959 - val_acc: 1.0000\n",
            "Epoch 8/10\n",
            "9/9 [==============================] - 10s 1s/step - loss: 0.2166 - acc: 0.9143 - val_loss: 0.3724 - val_acc: 0.8800\n",
            "Epoch 9/10\n",
            "9/9 [==============================] - 10s 1s/step - loss: 0.1790 - acc: 0.9086 - val_loss: 0.1545 - val_acc: 0.9200\n",
            "Epoch 10/10\n",
            "9/9 [==============================] - 10s 1s/step - loss: 0.2841 - acc: 0.8857 - val_loss: 0.1050 - val_acc: 0.9600\n"
          ]
        }
      ]
    },
    {
      "cell_type": "code",
      "metadata": {
        "colab": {
          "base_uri": "https://localhost:8080/",
          "height": 315
        },
        "id": "_pctLUQ77hkF",
        "outputId": "518c99f8-34b5-4037-c49c-4ac5f71d4229"
      },
      "source": [
        "import matplotlib.pyplot as plt\n",
        "import matplotlib.image as mpimg\n",
        "\n",
        "%matplotlib inline\n",
        "\n",
        "acc = history.history['acc']\n",
        "val_acc = history.history['val_acc']\n",
        "loss = history.history['loss']\n",
        "val_loss = history.history['val_loss']\n",
        "\n",
        "epochs = range(len(acc))\n",
        "\n",
        "plt.plot(epochs, acc, 'r', 'training_acc')\n",
        "plt.plot(epochs, val_acc, 'b', 'validation_acc')\n",
        "plt.title(\"training and validation accuracy\")\n",
        "plt.figure()"
      ],
      "execution_count": 122,
      "outputs": [
        {
          "output_type": "execute_result",
          "data": {
            "text/plain": [
              "<Figure size 432x288 with 0 Axes>"
            ]
          },
          "metadata": {},
          "execution_count": 122
        },
        {
          "output_type": "display_data",
          "data": {
            "image/png": "[encoded data removed]",
            "text/plain": [
              "<Figure size 432x288 with 1 Axes>"
            ]
          },
          "metadata": {
            "needs_background": "light"
          }
        },
        {
          "output_type": "display_data",
          "data": {
            "text/plain": [
              "<Figure size 432x288 with 0 Axes>"
            ]
          },
          "metadata": {}
        }
      ]
    }
  ]
}